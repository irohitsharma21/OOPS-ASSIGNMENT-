{
  "nbformat": 4,
  "nbformat_minor": 0,
  "metadata": {
    "colab": {
      "provenance": []
    },
    "kernelspec": {
      "name": "python3",
      "display_name": "Python 3"
    },
    "language_info": {
      "name": "python"
    }
  },
  "cells": [
    {
      "cell_type": "markdown",
      "source": [
        "**ASSIGNMENT  OOPS CONCEPT **"
      ],
      "metadata": {
        "id": "ftVmG0bHiW5T"
      }
    },
    {
      "cell_type": "code",
      "execution_count": null,
      "metadata": {
        "collapsed": true,
        "id": "oeq4_LTdiPn9"
      },
      "outputs": [],
      "source": [
        "# 1. What is Object-Oriented Programming (OOP)?\n",
        "\n",
        "\"\"\"\n",
        "Object-Oriented Programming (OOP) is a programming paradigm that organizes\n",
        "code into objects. Objects are instances of classes and contain attributes\n",
        "(data) and methods (functions). OOP enables modularity, reusability, and\n",
        "scalability through principles like encapsulation, inheritance, abstraction,\n",
        "and polymorphism.\n",
        "\"\"\"\n"
      ]
    },
    {
      "cell_type": "code",
      "source": [
        "# 2. What is a class in OOP?\n",
        "\n",
        "\"\"\"\n",
        "A class is a blueprint for creating objects. It defines attributes and\n",
        "methods that the objects instantiated from it will have.\n",
        "\"\"\"\n",
        "\n",
        "class Car:\n",
        "    def __init__(self, brand, model):\n",
        "        self.brand = brand\n",
        "        self.model = model\n"
      ],
      "metadata": {
        "id": "ASKjL6dziSEK"
      },
      "execution_count": null,
      "outputs": []
    },
    {
      "cell_type": "code",
      "source": [
        "# 3. What is an object in OOP?\n",
        "\n",
        "\"\"\"\n",
        "An object is an instance of a class. It has attributes and behaviors\n",
        "defined in the class.\n",
        "\"\"\"\n",
        "\n",
        "car1 = Car(\"Toyota\", \"Camry\")\n",
        "print(car1.brand)  # Output: Toyota\n"
      ],
      "metadata": {
        "id": "0INiqiUaiS4A"
      },
      "execution_count": null,
      "outputs": []
    },
    {
      "cell_type": "code",
      "source": [
        "# 4. What is the difference between abstraction and encapsulation?\n",
        "\n",
        "\"\"\"\n",
        "- Abstraction hides implementation details and only shows necessary\n",
        "  functionality.\n",
        "- Encapsulation restricts direct access to object data to prevent\n",
        "  modification from outside the class.\n",
        "\"\"\"\n",
        "\n",
        "class BankAccount:\n",
        "    def __init__(self, balance):\n",
        "        self.__balance = balance  # Encapsulation (private variable)\n",
        "\n",
        "    def get_balance(self):  # Abstraction\n",
        "        return self.__balance\n"
      ],
      "metadata": {
        "id": "VLkUjGVhitCK"
      },
      "execution_count": null,
      "outputs": []
    },
    {
      "cell_type": "code",
      "source": [
        "# 5. What are dunder methods in Python?\n",
        "\n",
        "\"\"\"\n",
        "Dunder (Double Underscore) methods, or magic methods, begin and end with\n",
        "double underscores (e.g., __init__, __str__). They enable custom class behaviors.\n",
        "\"\"\"\n",
        "\n",
        "class Example:\n",
        "    def __init__(self, name):\n",
        "        self.name = name\n",
        "\n",
        "    def __str__(self):\n",
        "        return f\"Example Object: {self.name}\"\n"
      ],
      "metadata": {
        "id": "3k28cRA1is-o"
      },
      "execution_count": null,
      "outputs": []
    },
    {
      "cell_type": "code",
      "source": [
        "# 6. Explain the concept of inheritance in OOP.\n",
        "\n",
        "\"\"\"\n",
        "Inheritance allows a child class to inherit methods and attributes from a\n",
        "parent class.\n",
        "\"\"\"\n",
        "\n",
        "class Animal:\n",
        "    def speak(self):\n",
        "        return \"Animal speaks\"\n",
        "\n",
        "class Dog(Animal):  # Inherits from Animal\n",
        "    def speak(self):\n",
        "        return \"Bark\"\n",
        "\n",
        "d = Dog()\n",
        "print(d.speak())  # Output: Bark\n"
      ],
      "metadata": {
        "id": "FzALa21Eis61"
      },
      "execution_count": null,
      "outputs": []
    },
    {
      "cell_type": "code",
      "source": [
        "# 7. What is polymorphism in OOP?\n",
        "\n",
        "\"\"\"\n",
        "Polymorphism allows objects of different classes to be treated as objects of\n",
        "a common superclass.\n",
        "\"\"\"\n",
        "\n",
        "class Bird:\n",
        "    def sound(self):\n",
        "        return \"Chirp\"\n",
        "\n",
        "class Dog:\n",
        "    def sound(self):\n",
        "        return \"Bark\"\n",
        "\n",
        "animals = [Bird(), Dog()]\n",
        "for animal in animals:\n",
        "    print(animal.sound())  # Output: Chirp, Bark\n"
      ],
      "metadata": {
        "id": "C-BDRzp3is28"
      },
      "execution_count": null,
      "outputs": []
    },
    {
      "cell_type": "code",
      "source": [
        "# 8. How is encapsulation achieved in Python?\n",
        "\n",
        "\"\"\"\n",
        "Encapsulation is achieved by defining attributes as private using double\n",
        "underscores (__).\n",
        "\"\"\"\n",
        "\n",
        "class Employee:\n",
        "    def __init__(self, salary):\n",
        "        self.__salary = salary  # Private attribute\n",
        "\n",
        "    def get_salary(self):\n",
        "        return self.__salary\n"
      ],
      "metadata": {
        "id": "Qw0Dg21Ziszn"
      },
      "execution_count": null,
      "outputs": []
    },
    {
      "cell_type": "code",
      "source": [
        "# 9. What is a constructor in Python?\n",
        "\n",
        "\"\"\"\n",
        "A constructor is a special method (__init__) that gets called automatically\n",
        "when an object is created.\n",
        "\"\"\"\n",
        "\n",
        "class Person:\n",
        "    def __init__(self, name):\n",
        "        self.name = name\n",
        "\n",
        "p = Person(\"Alice\")\n"
      ],
      "metadata": {
        "id": "UJzRk0Iuisvs"
      },
      "execution_count": null,
      "outputs": []
    },
    {
      "cell_type": "code",
      "source": [
        "# 10. What are class and static methods in Python?\n",
        "\n",
        "\"\"\"\n",
        "- Class methods use @classmethod and can access the class itself.\n",
        "- Static methods use @staticmethod and don’t depend on class variables.\n",
        "\"\"\"\n",
        "\n",
        "class Example:\n",
        "    count = 0\n",
        "\n",
        "    @classmethod\n",
        "    def get_count(cls):\n",
        "        return cls.count\n",
        "\n",
        "    @staticmethod\n",
        "    def greet():\n",
        "        return \"Hello\"\n"
      ],
      "metadata": {
        "id": "o70v3mSjisrw"
      },
      "execution_count": null,
      "outputs": []
    },
    {
      "cell_type": "code",
      "source": [
        "# 11. What is method overloading in Python?\n",
        "\n",
        "\"\"\"\n",
        "Python does not support traditional method overloading. Instead, default\n",
        "arguments or *args and **kwargs are used.\n",
        "\"\"\"\n",
        "\n",
        "class Math:\n",
        "    def add(self, a, b=0):\n",
        "        return a + b\n"
      ],
      "metadata": {
        "id": "4ur1iAObisoH"
      },
      "execution_count": null,
      "outputs": []
    },
    {
      "cell_type": "code",
      "source": [
        "# 12. What is method overriding in OOP?\n",
        "\n",
        "\"\"\"\n",
        "Overriding occurs when a subclass provides a new implementation of a method\n",
        "from the parent class.\n",
        "\"\"\"\n",
        "\n",
        "class Parent:\n",
        "    def show(self):\n",
        "        return \"Parent method\"\n",
        "\n",
        "class Child(Parent):\n",
        "    def show(self):\n",
        "        return \"Child method\"\n"
      ],
      "metadata": {
        "id": "Tl15RuXuiskL"
      },
      "execution_count": null,
      "outputs": []
    },
    {
      "cell_type": "code",
      "source": [
        "# 13. What is a property decorator in Python?\n",
        "\n",
        "\"\"\"\n",
        "@property allows a method to be accessed like an attribute.\n",
        "\"\"\"\n",
        "\n",
        "class Student:\n",
        "    def __init__(self, name):\n",
        "        self._name = name\n",
        "\n",
        "    @property\n",
        "    def name(self):\n",
        "        return self._name\n"
      ],
      "metadata": {
        "id": "jVo6vuplisgU"
      },
      "execution_count": null,
      "outputs": []
    },
    {
      "cell_type": "code",
      "source": [
        "# 14. Why is polymorphism important in OOP?\n",
        "\n",
        "\"\"\"\n",
        "Polymorphism increases flexibility by allowing different classes to be used\n",
        "interchangeably.\n",
        "\"\"\"\n"
      ],
      "metadata": {
        "id": "qbWqvCTyisci"
      },
      "execution_count": null,
      "outputs": []
    },
    {
      "cell_type": "code",
      "source": [
        "# 15. What is an abstract class in Python?\n",
        "\n",
        "\"\"\"\n",
        "An abstract class contains abstract methods that must be implemented by\n",
        "subclasses.\n",
        "\"\"\"\n",
        "\n",
        "from abc import ABC, abstractmethod\n",
        "\n",
        "class Shape(ABC):\n",
        "    @abstractmethod\n",
        "    def area(self):\n",
        "        pass\n"
      ],
      "metadata": {
        "id": "hDc23vj1isYt"
      },
      "execution_count": null,
      "outputs": []
    },
    {
      "cell_type": "code",
      "source": [
        "# 16. What are the advantages of OOP?\n",
        "\n",
        "\"\"\"\n",
        "- Code reusability\n",
        "- Scalability\n",
        "- Modularity\n",
        "- Security through encapsulation\n",
        "\"\"\"\n"
      ],
      "metadata": {
        "id": "cdR4LCrsisUo"
      },
      "execution_count": null,
      "outputs": []
    },
    {
      "cell_type": "code",
      "source": [
        "# 17. What is the difference between a class variable and an instance variable?\n",
        "\n",
        "\"\"\"\n",
        "- Class Variable: Shared among all instances.\n",
        "- Instance Variable: Unique to each instance.\n",
        "\"\"\"\n",
        "\n",
        "class Example:\n",
        "    class_var = 0  # Class variable\n",
        "    def __init__(self, value):\n",
        "        self.instance_var = value  # Instance variable\n"
      ],
      "metadata": {
        "id": "3zBkrSwLisQ5"
      },
      "execution_count": null,
      "outputs": []
    },
    {
      "cell_type": "code",
      "source": [
        "# 18. What is multiple inheritance in Python?\n",
        "\n",
        "\"\"\"\n",
        "A class can inherit from multiple parent classes.\n",
        "\"\"\"\n",
        "\n",
        "class A:\n",
        "    def method_a(self):\n",
        "        return \"A\"\n",
        "\n",
        "class B:\n",
        "    def method_b(self):\n",
        "        return \"B\"\n",
        "\n",
        "class C(A, B):\n",
        "    pass\n"
      ],
      "metadata": {
        "id": "Y8zVlbpmisM9"
      },
      "execution_count": null,
      "outputs": []
    },
    {
      "cell_type": "code",
      "source": [
        "# 19. Explain the purpose of __str__ and __repr__ methods in Python.\n",
        "\n",
        "\"\"\"\n",
        "- __str__ provides a readable string representation.\n",
        "- __repr__ provides an official representation for debugging.\n",
        "\"\"\"\n"
      ],
      "metadata": {
        "id": "9GH5yIjvisJL"
      },
      "execution_count": null,
      "outputs": []
    },
    {
      "cell_type": "code",
      "source": [
        "# 20. What is the significance of the super() function in Python?\n",
        "\n",
        "\"\"\"\n",
        "super() calls a method from the parent class.\n",
        "\"\"\"\n",
        "\n",
        "class Parent:\n",
        "    def greet(self):\n",
        "        return \"Hello\"\n",
        "\n",
        "class Child(Parent):\n",
        "    def greet(self):\n",
        "        return super().greet() + \", Child\"\n"
      ],
      "metadata": {
        "id": "GzzqXdrEisFf"
      },
      "execution_count": 23,
      "outputs": []
    },
    {
      "cell_type": "code",
      "source": [
        "# 21. What is the significance of the __del__ method in Python?\n",
        "\n",
        "\"\"\"\n",
        "__del__ is a destructor that gets called when an object is deleted.\n",
        "\"\"\"\n",
        "\n",
        "class Example:\n",
        "    def __del__(self):\n",
        "        print(\"Object deleted\")\n"
      ],
      "metadata": {
        "id": "U_4zhGhEisBv"
      },
      "execution_count": null,
      "outputs": []
    },
    {
      "cell_type": "code",
      "source": [
        "# 22. What is the difference between @staticmethod and @classmethod in Python?\n",
        "\n",
        "\"\"\"\n",
        "- @staticmethod: No access to class attributes.\n",
        "- @classmethod: Can modify class attributes.\n",
        "\"\"\"\n"
      ],
      "metadata": {
        "id": "Otv_4QXKir9s"
      },
      "execution_count": null,
      "outputs": []
    },
    {
      "cell_type": "code",
      "source": [
        "# 23. How does polymorphism work in Python with inheritance?\n",
        "\n",
        "\"\"\"\n",
        "A subclass can override a method of a superclass and provide a different\n",
        "implementation.\n",
        "\"\"\"\n"
      ],
      "metadata": {
        "id": "tfdQsglrir6C"
      },
      "execution_count": null,
      "outputs": []
    },
    {
      "cell_type": "code",
      "source": [
        "# 24. What is method chaining in Python OOP?\n",
        "\n",
        "\"\"\"\n",
        "Method chaining allows multiple method calls on the same object.\n",
        "\"\"\"\n",
        "\n",
        "class Example:\n",
        "    def step1(self):\n",
        "        print(\"Step 1\")\n",
        "        return self\n",
        "\n",
        "    def step2(self):\n",
        "        print(\"Step 2\")\n",
        "        return self\n",
        "\n",
        "e = Example()\n",
        "e.step1().step2()\n"
      ],
      "metadata": {
        "id": "G97tT3vMir2e"
      },
      "execution_count": null,
      "outputs": []
    },
    {
      "cell_type": "code",
      "source": [
        "# 25. What is the purpose of the __call__ method in Python?\n",
        "\n",
        "\"\"\"\n",
        "__call__ allows an instance to be called like a function.\n",
        "\"\"\"\n",
        "\n",
        "class Example:\n",
        "    def __call__(self):\n",
        "        return \"Called!\"\n",
        "\n",
        "e = Example()\n",
        "print(e())\n"
      ],
      "metadata": {
        "id": "7Bt9KofKiry0"
      },
      "execution_count": null,
      "outputs": []
    },
    {
      "cell_type": "markdown",
      "source": [
        "**PRACTICAL QUESTIONS **"
      ],
      "metadata": {
        "id": "O9RH1FvDjdzW"
      }
    },
    {
      "cell_type": "code",
      "source": [
        "# 1. Create a parent class Animal with a method speak() that prints a generic message.\n",
        "#    Create a child class Dog that overrides the speak() method to print \"Bark!\".\n",
        "\n",
        "class Animal:\n",
        "    def speak(self):\n",
        "        print(\"Animal makes a sound\")\n",
        "\n",
        "class Dog(Animal):\n",
        "    def speak(self):\n",
        "        print(\"Bark!\")\n",
        "\n",
        "d = Dog()\n",
        "d.speak()\n"
      ],
      "metadata": {
        "colab": {
          "base_uri": "https://localhost:8080/"
        },
        "id": "4dnb9_gHirvC",
        "outputId": "d5265120-eec2-419b-e804-b207920b1cbe"
      },
      "execution_count": 19,
      "outputs": [
        {
          "output_type": "stream",
          "name": "stdout",
          "text": [
            "Bark!\n"
          ]
        }
      ]
    },
    {
      "cell_type": "code",
      "source": [
        "# 2. Write a program to create an abstract class Shape with a method area().\n",
        "#    Derive classes Circle and Rectangle from it and implement the area() method in both.\n",
        "\n",
        "from abc import ABC, abstractmethod\n",
        "\n",
        "class Shape(ABC):\n",
        "    @abstractmethod\n",
        "    def area(self):\n",
        "        pass\n",
        "\n",
        "class Circle(Shape):\n",
        "    def __init__(self, radius):\n",
        "        self.radius = radius\n",
        "\n",
        "    def area(self):\n",
        "        return 3.14 * self.radius * self.radius\n",
        "\n",
        "class Rectangle(Shape):\n",
        "    def __init__(self, length, width):\n",
        "        self.length = length\n",
        "        self.width = width\n",
        "\n",
        "    def area(self):\n",
        "        return self.length * self.width\n",
        "\n",
        "c = Circle(5)\n",
        "r = Rectangle(4, 6)\n",
        "\n",
        "print(c.area())\n",
        "print(r.area())\n"
      ],
      "metadata": {
        "colab": {
          "base_uri": "https://localhost:8080/"
        },
        "id": "qAn4RKRoirre",
        "outputId": "e61c57dc-dfae-4c65-ca04-b317c022d145"
      },
      "execution_count": 18,
      "outputs": [
        {
          "output_type": "stream",
          "name": "stdout",
          "text": [
            "78.5\n",
            "24\n"
          ]
        }
      ]
    },
    {
      "cell_type": "code",
      "source": [
        "# 3. Implement a multi-level inheritance scenario where a class Vehicle has an attribute type.\n",
        "#    Derive a class Car and further derive a class ElectricCar that adds a battery attribute.\n",
        "\n",
        "class Vehicle:\n",
        "    def __init__(self, vehicle_type):\n",
        "        self.vehicle_type = vehicle_type\n",
        "\n",
        "class Car(Vehicle):\n",
        "    def __init__(self, brand, vehicle_type=\"Car\"):\n",
        "        super().__init__(vehicle_type)\n",
        "        self.brand = brand\n",
        "\n",
        "class ElectricCar(Car):\n",
        "    def __init__(self, brand, battery_capacity):\n",
        "        super().__init__(brand)\n",
        "        self.battery_capacity = battery_capacity\n",
        "\n",
        "ecar = ElectricCar(\"Tesla\", \"100 kWh\")\n",
        "print(ecar.brand, ecar.vehicle_type, ecar.battery_capacity)\n",
        "\n"
      ],
      "metadata": {
        "colab": {
          "base_uri": "https://localhost:8080/"
        },
        "id": "5H0t_G6girn0",
        "outputId": "bd1ec090-5b94-4fce-ee48-78601b40e735"
      },
      "execution_count": 17,
      "outputs": [
        {
          "output_type": "stream",
          "name": "stdout",
          "text": [
            "Tesla Car 100 kWh\n"
          ]
        }
      ]
    },
    {
      "cell_type": "code",
      "source": [
        "# 4. Demonstrate polymorphism by creating a base class Bird with a method fly().\n",
        "#    Create two derived classes Sparrow and Penguin that override the fly() method.\n",
        "\n",
        "class Bird:\n",
        "    def fly(self):\n",
        "        print(\"Birds can fly\")\n",
        "\n",
        "class Sparrow(Bird):\n",
        "    def fly(self):\n",
        "        print(\"Sparrow flies high\")\n",
        "\n",
        "class Penguin(Bird):\n",
        "    def fly(self):\n",
        "        print(\"Penguins cannot fly\")\n",
        "\n",
        "b = Sparrow()\n",
        "p = Penguin()\n",
        "\n",
        "b.fly()\n",
        "p.fly()\n"
      ],
      "metadata": {
        "colab": {
          "base_uri": "https://localhost:8080/"
        },
        "id": "nHNfHnUXirkE",
        "outputId": "ceae6732-1bfd-4057-e71a-4892e3d1cb48"
      },
      "execution_count": 16,
      "outputs": [
        {
          "output_type": "stream",
          "name": "stdout",
          "text": [
            "Sparrow flies high\n",
            "Penguins cannot fly\n"
          ]
        }
      ]
    },
    {
      "cell_type": "code",
      "source": [
        "# 5. Write a program to demonstrate encapsulation by creating a class BankAccount\n",
        "#    with private attributes balance and methods to deposit, withdraw, and check balance.\n",
        "\n",
        "class BankAccount:\n",
        "    def __init__(self, balance):\n",
        "        self.__balance = balance\n",
        "\n",
        "    def deposit(self, amount):\n",
        "        self.__balance += amount\n",
        "\n",
        "    def withdraw(self, amount):\n",
        "        if amount <= self.__balance:\n",
        "            self.__balance -= amount\n",
        "        else:\n",
        "            print(\"Insufficient funds\")\n",
        "\n",
        "    def check_balance(self):\n",
        "        return self.__balance\n",
        "\n",
        "acc = BankAccount(5000)\n",
        "acc.deposit(2000)\n",
        "acc.withdraw(3000)\n",
        "print(acc.check_balance())"
      ],
      "metadata": {
        "colab": {
          "base_uri": "https://localhost:8080/"
        },
        "id": "xBFHy9uGirgJ",
        "outputId": "b536e0b8-ed7b-4030-9eee-ab4ca0b77072"
      },
      "execution_count": 15,
      "outputs": [
        {
          "output_type": "stream",
          "name": "stdout",
          "text": [
            "4000\n"
          ]
        }
      ]
    },
    {
      "cell_type": "code",
      "source": [
        "# 6. Demonstrate runtime polymorphism using a method play() in a base class Instrument.\n",
        "#    Derive classes Guitar and Piano that implement their own version of play().\n",
        "\n",
        "class Instrument:\n",
        "    def play(self):\n",
        "        pass\n",
        "\n",
        "class Guitar(Instrument):\n",
        "    def play(self):\n",
        "        print(\"Playing guitar\")\n",
        "\n",
        "class Piano(Instrument):\n",
        "    def play(self):\n",
        "        print(\"Playing piano\")\n",
        "\n",
        "g = Guitar()\n",
        "p = Piano()\n",
        "g.play()\n",
        "p.play()\n"
      ],
      "metadata": {
        "colab": {
          "base_uri": "https://localhost:8080/"
        },
        "id": "OmmsLl7uirci",
        "outputId": "9627c4ec-d834-4a74-b805-13b53968ea85"
      },
      "execution_count": 14,
      "outputs": [
        {
          "output_type": "stream",
          "name": "stdout",
          "text": [
            "Playing guitar\n",
            "Playing piano\n"
          ]
        }
      ]
    },
    {
      "cell_type": "code",
      "source": [
        "# 7. Create a class MathOperations with a class method add_numbers() to add two numbers\n",
        "#    and a static method subtract_numbers() to subtract two numbers.\n",
        "\n",
        "class MathOperations:\n",
        "    @classmethod\n",
        "    def add_numbers(cls, a, b):\n",
        "        return a + b\n",
        "\n",
        "    @staticmethod\n",
        "    def subtract_numbers(a, b):\n",
        "        return a - b\n",
        "\n",
        "print(MathOperations.add_numbers(5, 3))\n",
        "print(MathOperations.subtract_numbers(7, 2))\n"
      ],
      "metadata": {
        "colab": {
          "base_uri": "https://localhost:8080/"
        },
        "id": "fxb_RsR6irYk",
        "outputId": "992d6002-738c-4990-ac69-7ef2407fe276"
      },
      "execution_count": 13,
      "outputs": [
        {
          "output_type": "stream",
          "name": "stdout",
          "text": [
            "8\n",
            "5\n"
          ]
        }
      ]
    },
    {
      "cell_type": "code",
      "source": [
        "# 8. Implement a class Person with a class method to count the total number of persons created.\n",
        "\n",
        "class Person:\n",
        "    count = 0\n",
        "\n",
        "    def __init__(self, name):\n",
        "        self.name = name\n",
        "        Person.count += 1\n",
        "\n",
        "    @classmethod\n",
        "    def get_count(cls):\n",
        "        return cls.count\n",
        "\n",
        "p1 = Person(\"Alice\")\n",
        "p2 = Person(\"Bob\")\n",
        "\n",
        "print(Person.get_count())\n"
      ],
      "metadata": {
        "colab": {
          "base_uri": "https://localhost:8080/"
        },
        "id": "MZzcmytDirP9",
        "outputId": "61e0ab50-4893-4341-bd77-c5c8fdc8fed2"
      },
      "execution_count": 12,
      "outputs": [
        {
          "output_type": "stream",
          "name": "stdout",
          "text": [
            "2\n"
          ]
        }
      ]
    },
    {
      "cell_type": "code",
      "source": [
        "# 9. Write a class Fraction with attributes numerator and denominator.\n",
        "#    Override the str method to display the fraction as \"numerator/denominator\".\n",
        "\n",
        "class Fraction:\n",
        "    def __init__(self, numerator, denominator):\n",
        "        self.numerator = numerator\n",
        "        self.denominator = denominator\n",
        "\n",
        "    def __str__(self):\n",
        "        return f\"{self.numerator}/{self.denominator}\"\n",
        "\n",
        "frac = Fraction(3, 5)\n",
        "print(frac)\n"
      ],
      "metadata": {
        "colab": {
          "base_uri": "https://localhost:8080/"
        },
        "id": "DMl4yEWgkLno",
        "outputId": "a7b80461-a46f-472b-e63a-bb4e3c740beb"
      },
      "execution_count": 11,
      "outputs": [
        {
          "output_type": "stream",
          "name": "stdout",
          "text": [
            "3/5\n"
          ]
        }
      ]
    },
    {
      "cell_type": "code",
      "source": [
        "# 10. Demonstrate operator overloading by creating a class Vector and\n",
        "#     overriding the add method to add two vectors.\n",
        "\n",
        "class Vector:\n",
        "    def __init__(self, x, y):\n",
        "        self.x = x\n",
        "        self.y = y\n",
        "\n",
        "    def __add__(self, other):\n",
        "        return Vector(self.x + other.x, self.y + other.y)\n",
        "\n",
        "    def __str__(self):\n",
        "        return f\"({self.x}, {self.y})\"\n",
        "\n",
        "v1 = Vector(2, 3)\n",
        "v2 = Vector(4, 5)\n",
        "print(v1 + v2)"
      ],
      "metadata": {
        "colab": {
          "base_uri": "https://localhost:8080/"
        },
        "id": "b1vtUxaLkLj_",
        "outputId": "c7cef165-fe40-4647-d2ac-3017b6b160bf"
      },
      "execution_count": 10,
      "outputs": [
        {
          "output_type": "stream",
          "name": "stdout",
          "text": [
            "(6, 8)\n"
          ]
        }
      ]
    },
    {
      "cell_type": "code",
      "source": [
        "# 11. Create a class Person with attributes name and age. Add a method greet()\n",
        "#     that prints \"Hello, my name is {name} and I am {age} years old.\"\n",
        "\n",
        "class Person:\n",
        "    def __init__(self, name, age):\n",
        "        self.name = name\n",
        "        self.age = age\n",
        "\n",
        "    def greet(self):\n",
        "        print(f\"Hello, my name is {self.name} and I am {self.age} years old.\")\n",
        "\n",
        "p = Person(\"Alice\", 30)\n",
        "p.greet()\n"
      ],
      "metadata": {
        "colab": {
          "base_uri": "https://localhost:8080/"
        },
        "id": "T6iDkLFRkLgX",
        "outputId": "cccbcdfa-6144-46c9-a405-99d79397f8ff"
      },
      "execution_count": 9,
      "outputs": [
        {
          "output_type": "stream",
          "name": "stdout",
          "text": [
            "Hello, my name is Alice and I am 30 years old.\n"
          ]
        }
      ]
    },
    {
      "cell_type": "code",
      "source": [
        "# 12. Implement a class Student with attributes name and grades.\n",
        "#     Create a method average_grade() to compute the average of the grades.\n",
        "\n",
        "class Student:\n",
        "    def __init__(self, name, grades):\n",
        "        self.name = name\n",
        "        self.grades = grades\n",
        "\n",
        "    def average_grade(self):\n",
        "        return sum(self.grades) / len(self.grades)\n",
        "\n",
        "s = Student(\"John\", [85, 90, 78])\n",
        "print(s.average_grade())\n"
      ],
      "metadata": {
        "colab": {
          "base_uri": "https://localhost:8080/"
        },
        "id": "X95kDZMUkLci",
        "outputId": "3d2702b6-c6e4-448f-cc9a-f95b8ece6aa2"
      },
      "execution_count": 8,
      "outputs": [
        {
          "output_type": "stream",
          "name": "stdout",
          "text": [
            "84.33333333333333\n"
          ]
        }
      ]
    },
    {
      "cell_type": "code",
      "source": [
        "# 13. Create a class Rectangle with methods set_dimensions() to set the dimensions\n",
        "#     and area() to calculate the area.\n",
        "\n",
        "class Rectangle:\n",
        "    def set_dimensions(self, length, width):\n",
        "        self.length = length\n",
        "        self.width = width\n",
        "\n",
        "    def area(self):\n",
        "        return self.length * self.width\n",
        "\n",
        "rect = Rectangle()\n",
        "rect.set_dimensions(5, 10)\n",
        "print(rect.area())\n"
      ],
      "metadata": {
        "colab": {
          "base_uri": "https://localhost:8080/"
        },
        "id": "HTvd3qe1kLY7",
        "outputId": "058809c3-dd20-49ef-a553-6393550a808e"
      },
      "execution_count": 7,
      "outputs": [
        {
          "output_type": "stream",
          "name": "stdout",
          "text": [
            "50\n"
          ]
        }
      ]
    },
    {
      "cell_type": "code",
      "source": [
        "# 14. Create a class Employee with a method calculate_salary() that computes the\n",
        "#     salary based on hours worked and hourly rate.\n",
        "#     Create a derived class Manager that adds a bonus to the salary.\n",
        "\n",
        "class Employee:\n",
        "    def __init__(self, hours_worked, hourly_rate):\n",
        "        self.hours_worked = hours_worked\n",
        "        self.hourly_rate = hourly_rate\n",
        "\n",
        "    def calculate_salary(self):\n",
        "        return self.hours_worked * self.hourly_rate\n",
        "\n",
        "class Manager(Employee):\n",
        "    def __init__(self, hours_worked, hourly_rate, bonus):\n",
        "        super().__init__(hours_worked, hourly_rate)\n",
        "        self.bonus = bonus\n",
        "\n",
        "    def calculate_salary(self):\n",
        "        return super().calculate_salary() + self.bonus\n",
        "\n",
        "m = Manager(40, 50, 500)\n",
        "print(m.calculate_salary())\n"
      ],
      "metadata": {
        "colab": {
          "base_uri": "https://localhost:8080/"
        },
        "id": "ZNOvfoiZkLU8",
        "outputId": "bbf8205b-419a-4b4a-a921-890008aa25e1"
      },
      "execution_count": 6,
      "outputs": [
        {
          "output_type": "stream",
          "name": "stdout",
          "text": [
            "2500\n"
          ]
        }
      ]
    },
    {
      "cell_type": "code",
      "source": [
        "# 15. Create a class Product with attributes name, price, and quantity.\n",
        "#     Implement a method total_price() that calculates the total price of the product.\n",
        "\n",
        "class Product:\n",
        "    def __init__(self, name, price, quantity):\n",
        "        self.name = name\n",
        "        self.price = price\n",
        "        self.quantity = quantity\n",
        "\n",
        "    def total_price(self):\n",
        "        return self.price * self.quantity\n",
        "\n",
        "p = Product(\"Laptop\", 50000, 2)\n",
        "print(p.total_price())\n"
      ],
      "metadata": {
        "colab": {
          "base_uri": "https://localhost:8080/"
        },
        "id": "faWx3g4kkLJ9",
        "outputId": "0a8f9579-f152-4fd9-b06e-a211b8e93c34"
      },
      "execution_count": 5,
      "outputs": [
        {
          "output_type": "stream",
          "name": "stdout",
          "text": [
            "100000\n"
          ]
        }
      ]
    },
    {
      "cell_type": "code",
      "source": [
        "# 16. Create a class Animal with an abstract method sound().\n",
        "#     Create two derived classes Cow and Sheep that implement the sound() method.\n",
        "\n",
        "from abc import ABC, abstractmethod\n",
        "\n",
        "class Animal(ABC):\n",
        "    @abstractmethod\n",
        "    def sound(self):\n",
        "        pass\n",
        "\n",
        "class Cow(Animal):\n",
        "    def sound(self):\n",
        "        print(\"Moo!\")\n",
        "\n",
        "class Sheep(Animal):\n",
        "    def sound(self):\n",
        "        print(\"Baa!\")\n",
        "\n",
        "c = Cow()\n",
        "s = Sheep()\n",
        "c.sound()\n",
        "s.sound()\n"
      ],
      "metadata": {
        "colab": {
          "base_uri": "https://localhost:8080/"
        },
        "id": "6Qtl1cTzkLGF",
        "outputId": "ed1819a0-db28-4782-f0e8-8c1d3f7e7604"
      },
      "execution_count": 4,
      "outputs": [
        {
          "output_type": "stream",
          "name": "stdout",
          "text": [
            "Moo!\n",
            "Baa!\n"
          ]
        }
      ]
    },
    {
      "cell_type": "code",
      "source": [
        "# 17. Create a class Book with attributes title, author, and year_published.\n",
        "#     Add a method get_book_info() that returns a formatted string with the book's details.\n",
        "\n",
        "class Book:\n",
        "    def __init__(self, title, author, year_published):\n",
        "        self.title = title\n",
        "        self.author = author\n",
        "        self.year_published = year_published\n",
        "\n",
        "    def get_book_info(self):\n",
        "        return f\"'{self.title}' by {self.author}, published in {self.year_published}\"\n",
        "\n",
        "b = Book(\"The Alchemist\", \"Paulo Coelho\", 1988)\n",
        "print(b.get_book_info())"
      ],
      "metadata": {
        "colab": {
          "base_uri": "https://localhost:8080/"
        },
        "id": "57MQO2hHkLB8",
        "outputId": "1a96bc23-e5ea-4452-a1c9-8751ebaf7114"
      },
      "execution_count": 3,
      "outputs": [
        {
          "output_type": "stream",
          "name": "stdout",
          "text": [
            "'The Alchemist' by Paulo Coelho, published in 1988\n"
          ]
        }
      ]
    },
    {
      "cell_type": "code",
      "source": [
        "# 18. Create a class House with attributes address and price.\n",
        "#     Create a derived class Mansion that adds an attribute number_of_rooms.\n",
        "\n",
        "class House:\n",
        "    def __init__(self, address, price):\n",
        "        self.address = address\n",
        "        self.price = price\n",
        "\n",
        "class Mansion(House):\n",
        "    def __init__(self, address, price, number_of_rooms):\n",
        "        super().__init__(address, price)\n",
        "        self.number_of_rooms = number_of_rooms\n",
        "\n",
        "m = Mansion(\"123 Luxury St\", 5000000, 10)\n",
        "print(m.address, m.price, m.number_of_rooms)\n"
      ],
      "metadata": {
        "colab": {
          "base_uri": "https://localhost:8080/"
        },
        "id": "2xflqUPxkK-c",
        "outputId": "ddbd03c7-8774-4e3a-bf6c-0f7c407779d2"
      },
      "execution_count": 2,
      "outputs": [
        {
          "output_type": "stream",
          "name": "stdout",
          "text": [
            "123 Luxury St 5000000 10\n"
          ]
        }
      ]
    }
  ]
}